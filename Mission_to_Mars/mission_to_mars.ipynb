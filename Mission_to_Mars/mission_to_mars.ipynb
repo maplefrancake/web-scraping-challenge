{
 "cells": [
  {
   "cell_type": "markdown",
   "id": "89bc3be9",
   "metadata": {},
   "source": [
    "# Mission to Mars\n",
    "\n",
    "In this challenge, we are going to scrape the Mars News Site and collect the latest News Title and Paragraph text."
   ]
  },
  {
   "cell_type": "code",
   "execution_count": 1,
   "id": "23d13ab1",
   "metadata": {},
   "outputs": [],
   "source": [
    "# dependencies first\n",
    "from bs4 import BeautifulSoup as bs\n",
    "from splinter import Browser\n",
    "from webdriver_manager.chrome import ChromeDriverManager\n",
    "import pandas as pd"
   ]
  },
  {
   "cell_type": "code",
   "execution_count": 2,
   "id": "badcf546",
   "metadata": {},
   "outputs": [],
   "source": [
    "# using splinter to visit the site\n",
    "executable_path = {'executable_path': ChromeDriverManager().install()}\n",
    "browser = Browser('chrome', **executable_path, headless=False)"
   ]
  },
  {
   "cell_type": "code",
   "execution_count": 3,
   "id": "9e537f35",
   "metadata": {},
   "outputs": [],
   "source": [
    "# set url of page to scrape and visit\n",
    "url = 'https://redplanetscience.com/'\n",
    "browser.visit(url)"
   ]
  },
  {
   "cell_type": "code",
   "execution_count": 4,
   "id": "fd35e108",
   "metadata": {},
   "outputs": [],
   "source": [
    "# set html with what we grab from the site's html\n",
    "html = browser.html"
   ]
  },
  {
   "cell_type": "code",
   "execution_count": 5,
   "id": "716d2909",
   "metadata": {},
   "outputs": [],
   "source": [
    "# create beautifulSoup object\n",
    "soup = bs(html, 'html.parser')"
   ]
  },
  {
   "cell_type": "code",
   "execution_count": 6,
   "id": "a0d9a236",
   "metadata": {
    "scrolled": true
   },
   "outputs": [
    {
     "name": "stdout",
     "output_type": "stream",
     "text": [
      "-------\n",
      "Media Get a Close-Up of NASA's Mars 2020 Rover\n",
      "The clean room at NASA's Jet Propulsion Laboratory was open to the media to see NASA's next Mars explorer before it leaves for Florida in preparation for a summertime launch.\n",
      "-------\n",
      "NASA InSight's 'Mole' Is Out of Sight\n",
      "Now that the heat probe is just below the Martian surface, InSight's arm will scoop some additional soil on top to help it keep digging so it can take Mars' temperature.\n",
      "-------\n",
      "Heat and Dust Help Launch Martian Water Into Space, Scientists Find\n",
      "Scientists using an instrument aboard NASA’s Mars Atmosphere and Volatile EvolutioN, or MAVEN, spacecraft have discovered that water vapor near the surface of the Red Planet is lofted higher into the atmosphere than anyone expected was possible. \n",
      "-------\n",
      "Scientists Explore Outback as Testbed for Mars \n",
      "Australia provides a great place for NASA's Mars 2020 and the ESA-Roscosmos ExoMars scientists to hone techniques in preparation for searching for signs ancient life on Mars.\n",
      "-------\n",
      "Common Questions about InSight's 'Mole'\n",
      "The following Q&As with members of the team answer some of the most common questions about the burrowing device, part of a science instrument called the Heat Flow and Physical Properties Package (HP3).\n",
      "-------\n",
      "6 Things to Know About NASA's Ingenuity Mars Helicopter\n",
      "The first helicopter attempting to fly on another planet is a marvel of engineering. Get up to speed with these key facts about its plans.\n",
      "-------\n",
      "Celebrate Mars Reconnaissance Orbiter's Views From Above\n",
      "Marking its 15th anniversary since launch, one of the oldest spacecraft at the Red Planet has provided glimpses of dust devils, avalanches, and more.\n",
      "-------\n",
      "7 Things to Know About the Mars 2020 Perseverance Rover Mission\n",
      "NASA's next rover to the Red Planet is slated to launch no earlier than July 30. These highlights will get you up to speed on the ambitious mission.\n",
      "-------\n",
      "NASA's Perseverance Rover Will Peer Beneath Mars' Surface \n",
      "The agency's newest rover will use the first ground-penetrating radar instrument on the Martian surface to help search for signs of past microbial life. \n",
      "-------\n",
      "Curiosity Mars Rover's Summer Road Trip Has Begun\n",
      "After more than a year in the \"clay-bearing unit,\" Curiosity is making a mile-long journey around some deep sand so that it can explore higher up Mount Sharp.\n",
      "-------\n",
      "NASA Readies Perseverance Mars Rover's Earthly Twin \n",
      "Did you know NASA's next Mars rover has a nearly identical sibling on Earth for testing? Even better, it's about to roll for the first time through a replica Martian landscape.\n",
      "-------\n",
      "From JPL's Mailroom to Mars and Beyond\n",
      "Bill Allen has thrived as the mechanical systems design lead for three Mars rover missions, but he got his start as a teenager sorting letters for the NASA center.\n",
      "-------\n",
      "NASA Establishes Board to Initially Review Mars Sample Return Plans\n",
      "The board will assist with analysis of current plans and goals for one of the most difficult missions humanity has ever undertaken.\n",
      "-------\n",
      "Mars Helicopter Attached to NASA's Perseverance Rover\n",
      "The team also fueled the rover's sky crane to get ready for this summer's history-making launch.\n",
      "-------\n",
      "Global Storms on Mars Launch Dust Towers Into the Sky\n",
      "A Mars Dust Tower Stands Out Dust storms are common on Mars. But every decade or so, something unpredictable happens: a series of runaway storms break out, covering the entire planet in a dusty haze.\n"
     ]
    }
   ],
   "source": [
    "# we want the news article title and paragraph\n",
    "# title = div class list_text > div class content_title\n",
    "# paragraph = div class list_text > div class article_teaser_body\n",
    "# create list of dictionaries at the same time\n",
    "\n",
    "searchResults = []\n",
    "\n",
    "results = soup.find_all('div', class_='list_text')\n",
    "for result in results:\n",
    "    title = result.find(class_='content_title').text\n",
    "    paragraph = result.find(class_='article_teaser_body').text\n",
    "    \n",
    "    #create a dictionary to append to our searchResults list\n",
    "    content={'title':title,'paragraph':paragraph}    \n",
    "    searchResults.append(content)\n",
    "    \n",
    "    #print content to screen as well\n",
    "    print('-------')\n",
    "    print(title)\n",
    "    print(paragraph)"
   ]
  },
  {
   "cell_type": "markdown",
   "id": "3865b150",
   "metadata": {},
   "source": [
    "# JPL Mars Space Images - Featured Image"
   ]
  },
  {
   "cell_type": "code",
   "execution_count": 7,
   "id": "cc37ec58",
   "metadata": {},
   "outputs": [],
   "source": [
    "url='https://spaceimages-mars.com/'\n",
    "browser.visit(url)"
   ]
  },
  {
   "cell_type": "code",
   "execution_count": 8,
   "id": "46dae7cd",
   "metadata": {},
   "outputs": [],
   "source": [
    "# navigate to featured image using the FULL IMAGE button\n",
    "browser.links.find_by_partial_text('FULL IMAGE').click()"
   ]
  },
  {
   "cell_type": "code",
   "execution_count": 9,
   "id": "f5138b8f",
   "metadata": {},
   "outputs": [
    {
     "name": "stdout",
     "output_type": "stream",
     "text": [
      "https://spaceimages-mars.com/image/featured/mars1.jpg\n"
     ]
    }
   ],
   "source": [
    "# image is kept in img class headerimage fade-in and jpg is kept in src\n",
    "\n",
    "image = browser.find_by_css('img[class=\"headerimage fade-in\"]')\n",
    "featured_image_url = image['src']\n",
    "print(featured_image_url)"
   ]
  },
  {
   "cell_type": "markdown",
   "id": "a6c4aa08",
   "metadata": {},
   "source": [
    "# Mars Facts"
   ]
  },
  {
   "cell_type": "code",
   "execution_count": 10,
   "id": "02000804",
   "metadata": {},
   "outputs": [],
   "source": [
    "url='https://galaxyfacts-mars.com/'\n",
    "browser.visit(url)"
   ]
  },
  {
   "cell_type": "code",
   "execution_count": 11,
   "id": "c8ac1257",
   "metadata": {},
   "outputs": [],
   "source": [
    "# from the instructions, we're interested in the table containing facts\n",
    "# about the planet including Diameter, Mass, etc.\n",
    "# I'm interpretting this as the table found in the diagram about halfway\n",
    "# down the page, rather than what's in the sidebar\n",
    "# in this case, the class is 'table', and not 'table table-striped'\n",
    "marsFacts = pd.read_html(url, attrs = {'class':'table'})"
   ]
  },
  {
   "cell_type": "code",
   "execution_count": 12,
   "id": "d80cc621",
   "metadata": {},
   "outputs": [
    {
     "data": {
      "text/plain": [
       "[                         0                1                2\n",
       " 0  Mars - Earth Comparison             Mars            Earth\n",
       " 1                Diameter:         6,779 km        12,742 km\n",
       " 2                    Mass:  6.39 × 10^23 kg  5.97 × 10^24 kg\n",
       " 3                   Moons:                2                1\n",
       " 4       Distance from Sun:   227,943,824 km   149,598,262 km\n",
       " 5          Length of Year:   687 Earth days      365.24 days\n",
       " 6             Temperature:     -87 to -5 °C      -88 to 58°C]"
      ]
     },
     "execution_count": 12,
     "metadata": {},
     "output_type": "execute_result"
    }
   ],
   "source": [
    "marsFacts"
   ]
  },
  {
   "cell_type": "code",
   "execution_count": 13,
   "id": "061e42c6",
   "metadata": {},
   "outputs": [
    {
     "data": {
      "text/html": [
       "<div>\n",
       "<style scoped>\n",
       "    .dataframe tbody tr th:only-of-type {\n",
       "        vertical-align: middle;\n",
       "    }\n",
       "\n",
       "    .dataframe tbody tr th {\n",
       "        vertical-align: top;\n",
       "    }\n",
       "\n",
       "    .dataframe thead th {\n",
       "        text-align: right;\n",
       "    }\n",
       "</style>\n",
       "<table border=\"1\" class=\"dataframe\">\n",
       "  <thead>\n",
       "    <tr style=\"text-align: right;\">\n",
       "      <th></th>\n",
       "      <th>Diameter:</th>\n",
       "      <th>Mass:</th>\n",
       "      <th>Moons:</th>\n",
       "      <th>Distance from Sun:</th>\n",
       "      <th>Length of Year:</th>\n",
       "      <th>Temperature:</th>\n",
       "    </tr>\n",
       "    <tr>\n",
       "      <th>Mars - Earth Comparison</th>\n",
       "      <th></th>\n",
       "      <th></th>\n",
       "      <th></th>\n",
       "      <th></th>\n",
       "      <th></th>\n",
       "      <th></th>\n",
       "    </tr>\n",
       "  </thead>\n",
       "  <tbody>\n",
       "    <tr>\n",
       "      <th>Mars</th>\n",
       "      <td>6,779 km</td>\n",
       "      <td>6.39 × 10^23 kg</td>\n",
       "      <td>2</td>\n",
       "      <td>227,943,824 km</td>\n",
       "      <td>687 Earth days</td>\n",
       "      <td>-87 to -5 °C</td>\n",
       "    </tr>\n",
       "    <tr>\n",
       "      <th>Earth</th>\n",
       "      <td>12,742 km</td>\n",
       "      <td>5.97 × 10^24 kg</td>\n",
       "      <td>1</td>\n",
       "      <td>149,598,262 km</td>\n",
       "      <td>365.24 days</td>\n",
       "      <td>-88 to 58°C</td>\n",
       "    </tr>\n",
       "  </tbody>\n",
       "</table>\n",
       "</div>"
      ],
      "text/plain": [
       "                         Diameter:            Mass: Moons: Distance from Sun:  \\\n",
       "Mars - Earth Comparison                                                         \n",
       "Mars                      6,779 km  6.39 × 10^23 kg      2     227,943,824 km   \n",
       "Earth                    12,742 km  5.97 × 10^24 kg      1     149,598,262 km   \n",
       "\n",
       "                        Length of Year:  Temperature:  \n",
       "Mars - Earth Comparison                                \n",
       "Mars                     687 Earth days  -87 to -5 °C  \n",
       "Earth                       365.24 days   -88 to 58°C  "
      ]
     },
     "execution_count": 13,
     "metadata": {},
     "output_type": "execute_result"
    }
   ],
   "source": [
    "# transform list into df and clean it up\n",
    "marsDF = pd.DataFrame(marsFacts[0])\n",
    "marsClean = marsDF.transpose()\n",
    "marsClean.rename(columns=marsClean.iloc[0], inplace=True)\n",
    "marsClean.drop(marsClean.index[0], inplace=True)\n",
    "marsClean.set_index('Mars - Earth Comparison', inplace=True)\n",
    "marsClean"
   ]
  },
  {
   "cell_type": "code",
   "execution_count": 14,
   "id": "e8de83d5",
   "metadata": {},
   "outputs": [],
   "source": [
    "#send df to html and create html file\n",
    "marsClean.to_html(open('marsClean.html','w'))"
   ]
  },
  {
   "cell_type": "markdown",
   "id": "117f8b07",
   "metadata": {},
   "source": [
    "# Mars Hemispheres"
   ]
  },
  {
   "cell_type": "code",
   "execution_count": 15,
   "id": "59982dcc",
   "metadata": {},
   "outputs": [],
   "source": [
    "url='https://marshemispheres.com/'\n",
    "browser.visit(url)\n",
    "html = browser.html\n",
    "soup = bs(html, 'html.parser')"
   ]
  },
  {
   "cell_type": "code",
   "execution_count": 16,
   "id": "3ca199f9",
   "metadata": {},
   "outputs": [],
   "source": [
    "# goal is to get each full res image\n",
    "# under div id=product-section > div class item > a href has html\n",
    "# need to click on each link and then get the full res\n",
    "\n",
    "hemisphere_image_urls = []\n",
    "\n",
    "imageLinks = soup.find_all(class_='item')\n",
    "for image in imageLinks:\n",
    "    aElement = image.find('a')\n",
    "    link=aElement['href']\n",
    "    name = image.find('h3').text\n",
    "           \n",
    "    #next, we'll click on the link using the name we found\n",
    "    browser.links.find_by_partial_text(name).click()\n",
    "    \n",
    "    #now we need new html + soup object\n",
    "    imagehtml = browser.html\n",
    "    imageSoup = bs(imagehtml, 'html.parser')\n",
    "    \n",
    "    #we can get the picture elements from downloads\n",
    "    imageDownloads = imageSoup.find(class_='downloads')\n",
    "    #original image will always be second in the list within the downloads class\n",
    "    imageFull = imageDownloads.find_all('li')\n",
    "    originalA = imageFull[1].find('a')\n",
    "    imageLink = originalA['href']\n",
    "    \n",
    "    hemisphere_image_urls.append({'title':name,'img_url':imageLink})\n",
    "    \n",
    "    #save image\n",
    "    browser.links.find_by_text('Original').click()\n",
    "    \n",
    "    browser.back()"
   ]
  },
  {
   "cell_type": "code",
   "execution_count": 17,
   "id": "1b0c31a3",
   "metadata": {},
   "outputs": [
    {
     "data": {
      "text/plain": [
       "[{'title': 'Cerberus Hemisphere Enhanced',\n",
       "  'img_url': 'images/cerberus_enhanced.tif'},\n",
       " {'title': 'Schiaparelli Hemisphere Enhanced',\n",
       "  'img_url': 'images/schiaparelli_enhanced.tif'},\n",
       " {'title': 'Syrtis Major Hemisphere Enhanced',\n",
       "  'img_url': 'images/syrtis_major_enhanced.tif'},\n",
       " {'title': 'Valles Marineris Hemisphere Enhanced',\n",
       "  'img_url': 'images/valles_marineris_enhanced.tif'}]"
      ]
     },
     "execution_count": 17,
     "metadata": {},
     "output_type": "execute_result"
    }
   ],
   "source": [
    "hemisphere_image_urls"
   ]
  },
  {
   "cell_type": "code",
   "execution_count": null,
   "id": "90df9df4",
   "metadata": {},
   "outputs": [],
   "source": []
  },
  {
   "cell_type": "code",
   "execution_count": 18,
   "id": "1a8d523c",
   "metadata": {},
   "outputs": [],
   "source": [
    "browser.quit()"
   ]
  }
 ],
 "metadata": {
  "kernelspec": {
   "display_name": "PythonData",
   "language": "python",
   "name": "pythondata"
  },
  "language_info": {
   "codemirror_mode": {
    "name": "ipython",
    "version": 3
   },
   "file_extension": ".py",
   "mimetype": "text/x-python",
   "name": "python",
   "nbconvert_exporter": "python",
   "pygments_lexer": "ipython3",
   "version": "3.9.13"
  }
 },
 "nbformat": 4,
 "nbformat_minor": 5
}
