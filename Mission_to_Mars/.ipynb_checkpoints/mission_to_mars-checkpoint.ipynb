{
 "cells": [
  {
   "cell_type": "markdown",
   "id": "b007630f",
   "metadata": {},
   "source": [
    "# Mission to Mars\n",
    "\n",
    "In this challenge, we are going to scrape the Mars News Site and collect the latest News Title and Paragraph text."
   ]
  },
  {
   "cell_type": "code",
   "execution_count": 11,
   "id": "23d13ab1",
   "metadata": {},
   "outputs": [],
   "source": [
    "# dependencies first\n",
    "from bs4 import BeautifulSoup as bs\n",
    "from splinter import Browser\n",
    "from webdriver_manager.chrome import ChromeDriverManager\n",
    "import pandas as pd"
   ]
  },
  {
   "cell_type": "code",
   "execution_count": 2,
   "id": "b461e0ad",
   "metadata": {},
   "outputs": [],
   "source": [
    "# using splinter to visit the site\n",
    "executable_path = {'executable_path': ChromeDriverManager().install()}\n",
    "browser = Browser('chrome', **executable_path, headless=False)"
   ]
  },
  {
   "cell_type": "code",
   "execution_count": 3,
   "id": "1134f6f5",
   "metadata": {},
   "outputs": [],
   "source": [
    "# set url of page to scrape and visit\n",
    "url = 'https://redplanetscience.com/'\n",
    "browser.visit(url)"
   ]
  },
  {
   "cell_type": "code",
   "execution_count": 4,
   "id": "19df4145",
   "metadata": {},
   "outputs": [],
   "source": [
    "# set html with what we grab from the site's html\n",
    "html = browser.html"
   ]
  },
  {
   "cell_type": "code",
   "execution_count": 5,
   "id": "c58d071c",
   "metadata": {},
   "outputs": [],
   "source": [
    "# create beautifulSoup object\n",
    "soup = bs(html, 'html.parser')"
   ]
  },
  {
   "cell_type": "code",
   "execution_count": 6,
   "id": "606dc8b5",
   "metadata": {
    "scrolled": true
   },
   "outputs": [
    {
     "name": "stdout",
     "output_type": "stream",
     "text": [
      "-------\n",
      "NASA's Curiosity Mars Rover Takes a New Selfie Before Record Climb\n",
      "Along with capturing an image before its steepest ascent ever, the robotic explorer filmed its \"selfie stick,\" or robotic arm, in action.\n",
      "-------\n",
      "Air Deliveries Bring NASA's Perseverance Mars Rover Closer to Launch\n",
      "A NASA Wallops Flight Facility cargo plane transported more than two tons of equipment — including the rover's sample collection tubes — to Florida for this summer's liftoff.\n",
      "-------\n",
      "NASA Wins Two Emmy Awards for Interactive Mission Coverage\n",
      "NASA-JPL's coverage of the Mars InSight landing earns one of the two wins, making this the NASA center's second Emmy.\n",
      "-------\n",
      "NASA Mars Mission Connects With Bosnian and Herzegovinian Town\n",
      "A letter from NASA was presented to the mayor of Jezero, Bosnia-Herzegovina, honoring the connection between the town and Jezero Crater, the Mars 2020 rover landing site.\n",
      "-------\n",
      "Nine Finalists Chosen in NASA's Mars 2020 Rover Naming Contest\n",
      "Nine finalists have been chosen in the essay contest for K-12 students across U.S. to name NASA's next Mars rover. Now you can help by voting for your favorite. \n",
      "-------\n",
      "Q&A with the Student Who Named Ingenuity, NASA's Mars Helicopter\n",
      "As a longtime fan of space exploration, Vaneeza Rupani appreciates the creativity and collaboration involved with trying to fly on another planet.\n",
      "-------\n",
      "NASA's Curiosity Mars Rover Snaps Its Highest-Resolution Panorama Yet\n",
      "To go along with the stunning 1.8-billion-pixel image, a new video offers a sweeping view of the Red Planet.\n",
      "-------\n",
      "NASA's MAVEN Observes Martian Night Sky Pulsing in Ultraviolet Light\n",
      "Vast areas of the Martian night sky pulse in ultraviolet light, according to images from NASA’s MAVEN spacecraft. The results are being used to illuminate complex circulation patterns in the Martian atmosphere.\n",
      "-------\n",
      "Mars InSight Lander to Push on Top of the 'Mole'\n",
      "Engineers have a plan for pushing down on the heat probe, which has been stuck at the Martian surface for a year.\n",
      "-------\n",
      "NASA's Mars Reconnaissance Orbiter Undergoes Memory Update\n",
      "Other orbiters will continue relaying data from Mars surface missions for a two-week period.\n",
      "-------\n",
      "The Detective Aboard NASA's Perseverance Rover\n",
      "An instrument called SHERLOC will, with the help of its partner WATSON, hunt for signs of ancient life by detecting organic molecules and minerals.\n",
      "-------\n",
      "NASA Perseverance Mars Rover Scientists Train in the Nevada Desert\n",
      "Team members searched for signs of ancient microscopic life there, just as NASA's latest rover will on the Red Planet next year.\n",
      "-------\n",
      "New Selfie Shows Curiosity, the Mars Chemist\n",
      "The NASA rover performed a special chemistry experiment at the location captured in its newest self-portrait.\n",
      "-------\n",
      "NASA Wins 4 Webbys, 4 People's Voice Awards\n",
      "Winners include the JPL-managed \"Send Your Name to Mars\" campaign, NASA's Global Climate Change website and Solar System Interactive.\n",
      "-------\n",
      "NASA Engineers Checking InSight's Weather Sensors\n",
      "An electronics issue is suspected to be preventing the sensors from sharing their data about Mars weather with the spacecraft.\n"
     ]
    }
   ],
   "source": [
    "# we want the news article title and paragraph\n",
    "# title = div class list_text > div class content_title\n",
    "# paragraph = div class list_text > div class article_teaser_body\n",
    "# create list of dictionaries at the same time\n",
    "\n",
    "searchResults = []\n",
    "\n",
    "results = soup.find_all('div', class_='list_text')\n",
    "for result in results:\n",
    "    title = result.find(class_='content_title').text\n",
    "    paragraph = result.find(class_='article_teaser_body').text\n",
    "    \n",
    "    #create a dictionary to append to our searchResults list\n",
    "    content={'title':title,'paragraph':paragraph}    \n",
    "    searchResults.append(content)\n",
    "    \n",
    "    #print content to screen as well\n",
    "    print('-------')\n",
    "    print(title)\n",
    "    print(paragraph)"
   ]
  },
  {
   "cell_type": "markdown",
   "id": "5c5891a5",
   "metadata": {},
   "source": [
    "# JPL Mars Space Images - Featured Image"
   ]
  },
  {
   "cell_type": "code",
   "execution_count": 7,
   "id": "096c2e09",
   "metadata": {},
   "outputs": [],
   "source": [
    "url='https://spaceimages-mars.com/'\n",
    "browser.visit(url)"
   ]
  },
  {
   "cell_type": "code",
   "execution_count": 8,
   "id": "bb46a274",
   "metadata": {},
   "outputs": [],
   "source": [
    "# navigate to featured image using the FULL IMAGE button\n",
    "browser.links.find_by_partial_text('FULL IMAGE').click()"
   ]
  },
  {
   "cell_type": "code",
   "execution_count": 9,
   "id": "f743f249",
   "metadata": {},
   "outputs": [
    {
     "name": "stdout",
     "output_type": "stream",
     "text": [
      "https://spaceimages-mars.com/image/featured/mars3.jpg\n"
     ]
    }
   ],
   "source": [
    "# image is kept in img class headerimage fade-in and jpg is kept in src\n",
    "\n",
    "image = browser.find_by_css('img[class=\"headerimage fade-in\"]')\n",
    "featured_image_url = image['src']\n",
    "print(featured_image_url)"
   ]
  },
  {
   "cell_type": "markdown",
   "id": "e71b5e34",
   "metadata": {},
   "source": [
    "# Mars Facts"
   ]
  },
  {
   "cell_type": "code",
   "execution_count": 10,
   "id": "b51e6d38",
   "metadata": {},
   "outputs": [],
   "source": [
    "url='https://galaxyfacts-mars.com/'\n",
    "browser.visit(url)"
   ]
  },
  {
   "cell_type": "code",
   "execution_count": 27,
   "id": "1f0edd57",
   "metadata": {},
   "outputs": [],
   "source": [
    "# from the instructions, we're interested in the table containing facts\n",
    "# about the planet including Diameter, Mass, etc.\n",
    "# I'm interpretting this as the table found in the diagram about halfway\n",
    "# down the page, rather than what's in the sidebar\n",
    "# in this case, the class is 'table', and not 'table table-striped'\n",
    "marsFacts = pd.read_html(url, attrs = {'class':'table'})"
   ]
  },
  {
   "cell_type": "code",
   "execution_count": 28,
   "id": "85743eab",
   "metadata": {},
   "outputs": [
    {
     "data": {
      "text/plain": [
       "[                         0                1                2\n",
       " 0  Mars - Earth Comparison             Mars            Earth\n",
       " 1                Diameter:         6,779 km        12,742 km\n",
       " 2                    Mass:  6.39 × 10^23 kg  5.97 × 10^24 kg\n",
       " 3                   Moons:                2                1\n",
       " 4       Distance from Sun:   227,943,824 km   149,598,262 km\n",
       " 5          Length of Year:   687 Earth days      365.24 days\n",
       " 6             Temperature:     -87 to -5 °C      -88 to 58°C]"
      ]
     },
     "execution_count": 28,
     "metadata": {},
     "output_type": "execute_result"
    }
   ],
   "source": [
    "marsFacts"
   ]
  },
  {
   "cell_type": "code",
   "execution_count": 40,
   "id": "a2c37ff8",
   "metadata": {},
   "outputs": [
    {
     "data": {
      "text/html": [
       "<div>\n",
       "<style scoped>\n",
       "    .dataframe tbody tr th:only-of-type {\n",
       "        vertical-align: middle;\n",
       "    }\n",
       "\n",
       "    .dataframe tbody tr th {\n",
       "        vertical-align: top;\n",
       "    }\n",
       "\n",
       "    .dataframe thead th {\n",
       "        text-align: right;\n",
       "    }\n",
       "</style>\n",
       "<table border=\"1\" class=\"dataframe\">\n",
       "  <thead>\n",
       "    <tr style=\"text-align: right;\">\n",
       "      <th></th>\n",
       "      <th>Diameter:</th>\n",
       "      <th>Mass:</th>\n",
       "      <th>Moons:</th>\n",
       "      <th>Distance from Sun:</th>\n",
       "      <th>Length of Year:</th>\n",
       "      <th>Temperature:</th>\n",
       "    </tr>\n",
       "    <tr>\n",
       "      <th>Mars - Earth Comparison</th>\n",
       "      <th></th>\n",
       "      <th></th>\n",
       "      <th></th>\n",
       "      <th></th>\n",
       "      <th></th>\n",
       "      <th></th>\n",
       "    </tr>\n",
       "  </thead>\n",
       "  <tbody>\n",
       "    <tr>\n",
       "      <th>Mars</th>\n",
       "      <td>6,779 km</td>\n",
       "      <td>6.39 × 10^23 kg</td>\n",
       "      <td>2</td>\n",
       "      <td>227,943,824 km</td>\n",
       "      <td>687 Earth days</td>\n",
       "      <td>-87 to -5 °C</td>\n",
       "    </tr>\n",
       "    <tr>\n",
       "      <th>Earth</th>\n",
       "      <td>12,742 km</td>\n",
       "      <td>5.97 × 10^24 kg</td>\n",
       "      <td>1</td>\n",
       "      <td>149,598,262 km</td>\n",
       "      <td>365.24 days</td>\n",
       "      <td>-88 to 58°C</td>\n",
       "    </tr>\n",
       "  </tbody>\n",
       "</table>\n",
       "</div>"
      ],
      "text/plain": [
       "                         Diameter:            Mass: Moons: Distance from Sun:  \\\n",
       "Mars - Earth Comparison                                                         \n",
       "Mars                      6,779 km  6.39 × 10^23 kg      2     227,943,824 km   \n",
       "Earth                    12,742 km  5.97 × 10^24 kg      1     149,598,262 km   \n",
       "\n",
       "                        Length of Year:  Temperature:  \n",
       "Mars - Earth Comparison                                \n",
       "Mars                     687 Earth days  -87 to -5 °C  \n",
       "Earth                       365.24 days   -88 to 58°C  "
      ]
     },
     "execution_count": 40,
     "metadata": {},
     "output_type": "execute_result"
    }
   ],
   "source": [
    "# transform list into df and clean it up\n",
    "marsDF = pd.DataFrame(marsFacts[0])\n",
    "marsClean = marsDF.transpose()\n",
    "marsClean.rename(columns=marsClean.iloc[0], inplace=True)\n",
    "marsClean.drop(marsClean.index[0], inplace=True)\n",
    "marsClean.set_index('Mars - Earth Comparison', inplace=True)\n",
    "marsClean"
   ]
  },
  {
   "cell_type": "code",
   "execution_count": 42,
   "id": "c7c5dce2",
   "metadata": {},
   "outputs": [],
   "source": [
    "#send df to html and create html file\n",
    "marsClean.to_html(open('marsClean.html','w'))"
   ]
  },
  {
   "cell_type": "markdown",
   "id": "85c8add3",
   "metadata": {},
   "source": [
    "# Mars Hemispheres"
   ]
  },
  {
   "cell_type": "code",
   "execution_count": 129,
   "id": "cabc320f",
   "metadata": {},
   "outputs": [],
   "source": [
    "url='https://marshemispheres.com/'\n",
    "browser.visit(url)\n",
    "html = browser.html\n",
    "soup = bs(html, 'html.parser')"
   ]
  },
  {
   "cell_type": "code",
   "execution_count": 130,
   "id": "7eb49ce3",
   "metadata": {},
   "outputs": [],
   "source": [
    "# goal is to get each full res image\n",
    "# under div id=product-section > div class item > a href has html\n",
    "# need to click on each link and then get the full res\n",
    "\n",
    "hemisphere_image_urls = {'title':[],'img_url':[]}\n",
    "\n",
    "imageLinks = soup.find_all(class_='item')\n",
    "for image in imageLinks:\n",
    "    aElement = image.find('a')\n",
    "    link=aElement['href']\n",
    "    name = image.find('h3').text\n",
    "           \n",
    "    #next, we'll click on the link using the name we found\n",
    "    browser.links.find_by_partial_text(name).click()\n",
    "    \n",
    "    #now we need new html + soup object\n",
    "    imagehtml = browser.html\n",
    "    imageSoup = bs(imagehtml, 'html.parser')\n",
    "    \n",
    "    #we can get the picture elements from downloads\n",
    "    imageDownloads = imageSoup.find(class_='downloads')\n",
    "    #original image will always be second in the list within the downloads class\n",
    "    imageFull = imageDownloads.find_all('li')\n",
    "    originalA = imageFull[1].find('a')\n",
    "    imageLink = originalA['href']\n",
    "    \n",
    "    hemisphere_image_urls['title'].append(name)\n",
    "    hemisphere_image_urls['img_url'].append(imageLink)\n",
    "    \n",
    "    #save image\n",
    "    browser.links.find_by_text('Original').click()\n",
    "    \n",
    "    browser.back()"
   ]
  },
  {
   "cell_type": "code",
   "execution_count": 128,
   "id": "b495c843",
   "metadata": {},
   "outputs": [
    {
     "data": {
      "text/plain": [
       "{'title': ['Cerberus Hemisphere Enhanced',\n",
       "  'Schiaparelli Hemisphere Enhanced',\n",
       "  'Syrtis Major Hemisphere Enhanced',\n",
       "  'Valles Marineris Hemisphere Enhanced'],\n",
       " 'img_url': ['images/cerberus_enhanced.tif',\n",
       "  'images/schiaparelli_enhanced.tif',\n",
       "  'images/syrtis_major_enhanced.tif',\n",
       "  'images/valles_marineris_enhanced.tif']}"
      ]
     },
     "execution_count": 128,
     "metadata": {},
     "output_type": "execute_result"
    }
   ],
   "source": [
    "hemisphere_image_urls"
   ]
  },
  {
   "cell_type": "code",
   "execution_count": null,
   "id": "d23ba922",
   "metadata": {},
   "outputs": [],
   "source": []
  },
  {
   "cell_type": "code",
   "execution_count": null,
   "id": "e46da506",
   "metadata": {},
   "outputs": [],
   "source": [
    "browser.quit()"
   ]
  }
 ],
 "metadata": {
  "kernelspec": {
   "display_name": "PythonData",
   "language": "python",
   "name": "pythondata"
  },
  "language_info": {
   "codemirror_mode": {
    "name": "ipython",
    "version": 3
   },
   "file_extension": ".py",
   "mimetype": "text/x-python",
   "name": "python",
   "nbconvert_exporter": "python",
   "pygments_lexer": "ipython3",
   "version": "3.9.13"
  }
 },
 "nbformat": 4,
 "nbformat_minor": 5
}
